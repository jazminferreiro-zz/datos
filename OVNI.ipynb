{
 "cells": [
  {
   "cell_type": "code",
   "execution_count": 8,
   "metadata": {
    "collapsed": true
   },
   "outputs": [],
   "source": [
    "\n",
    "import pandas as pd\n",
    "import numpy as np\n",
    "import seaborn as sns\n",
    "import matplotlib.pyplot as plt\n",
    "%matplotlib inline"
   ]
  },
  {
   "cell_type": "code",
   "execution_count": 9,
   "metadata": {},
   "outputs": [
    {
     "data": {
      "text/html": [
       "<div>\n",
       "<style>\n",
       "    .dataframe thead tr:only-child th {\n",
       "        text-align: right;\n",
       "    }\n",
       "\n",
       "    .dataframe thead th {\n",
       "        text-align: left;\n",
       "    }\n",
       "\n",
       "    .dataframe tbody tr th {\n",
       "        vertical-align: top;\n",
       "    }\n",
       "</style>\n",
       "<table border=\"1\" class=\"dataframe\">\n",
       "  <thead>\n",
       "    <tr style=\"text-align: right;\">\n",
       "      <th></th>\n",
       "      <th>datetime</th>\n",
       "      <th>city</th>\n",
       "      <th>state</th>\n",
       "      <th>country</th>\n",
       "      <th>shape</th>\n",
       "      <th>duration (seconds)</th>\n",
       "      <th>duration (hours/min)</th>\n",
       "      <th>comments</th>\n",
       "      <th>date posted</th>\n",
       "      <th>latitude</th>\n",
       "      <th>longitude</th>\n",
       "    </tr>\n",
       "  </thead>\n",
       "  <tbody>\n",
       "    <tr>\n",
       "      <th>80327</th>\n",
       "      <td>9/9/2013 21:15</td>\n",
       "      <td>nashville</td>\n",
       "      <td>tn</td>\n",
       "      <td>us</td>\n",
       "      <td>light</td>\n",
       "      <td>600</td>\n",
       "      <td>10 minutes</td>\n",
       "      <td>Round from the distance/slowly changing colors...</td>\n",
       "      <td>9/30/2013</td>\n",
       "      <td>36.1658</td>\n",
       "      <td>-86.784444</td>\n",
       "    </tr>\n",
       "    <tr>\n",
       "      <th>80328</th>\n",
       "      <td>9/9/2013 22:00</td>\n",
       "      <td>boise</td>\n",
       "      <td>id</td>\n",
       "      <td>us</td>\n",
       "      <td>circle</td>\n",
       "      <td>1200</td>\n",
       "      <td>20 minutes</td>\n",
       "      <td>Boise&amp;#44 ID&amp;#44 spherical&amp;#44 20 min&amp;#44 10 r...</td>\n",
       "      <td>9/30/2013</td>\n",
       "      <td>43.6136</td>\n",
       "      <td>-116.202500</td>\n",
       "    </tr>\n",
       "    <tr>\n",
       "      <th>80329</th>\n",
       "      <td>9/9/2013 22:00</td>\n",
       "      <td>napa</td>\n",
       "      <td>ca</td>\n",
       "      <td>us</td>\n",
       "      <td>other</td>\n",
       "      <td>1200</td>\n",
       "      <td>hour</td>\n",
       "      <td>Napa UFO&amp;#44</td>\n",
       "      <td>9/30/2013</td>\n",
       "      <td>38.2972</td>\n",
       "      <td>-122.284444</td>\n",
       "    </tr>\n",
       "    <tr>\n",
       "      <th>80330</th>\n",
       "      <td>9/9/2013 22:20</td>\n",
       "      <td>vienna</td>\n",
       "      <td>va</td>\n",
       "      <td>us</td>\n",
       "      <td>circle</td>\n",
       "      <td>5</td>\n",
       "      <td>5 seconds</td>\n",
       "      <td>Saw a five gold lit cicular craft moving fastl...</td>\n",
       "      <td>9/30/2013</td>\n",
       "      <td>38.9011</td>\n",
       "      <td>-77.265556</td>\n",
       "    </tr>\n",
       "    <tr>\n",
       "      <th>80331</th>\n",
       "      <td>9/9/2013 23:00</td>\n",
       "      <td>edmond</td>\n",
       "      <td>ok</td>\n",
       "      <td>us</td>\n",
       "      <td>cigar</td>\n",
       "      <td>1020</td>\n",
       "      <td>17 minutes</td>\n",
       "      <td>2 witnesses 2  miles apart&amp;#44 Red &amp;amp; White...</td>\n",
       "      <td>9/30/2013</td>\n",
       "      <td>35.6528</td>\n",
       "      <td>-97.477778</td>\n",
       "    </tr>\n",
       "  </tbody>\n",
       "</table>\n",
       "</div>"
      ],
      "text/plain": [
       "             datetime       city state country   shape duration (seconds)  \\\n",
       "80327  9/9/2013 21:15  nashville    tn      us   light                600   \n",
       "80328  9/9/2013 22:00      boise    id      us  circle               1200   \n",
       "80329  9/9/2013 22:00       napa    ca      us   other               1200   \n",
       "80330  9/9/2013 22:20     vienna    va      us  circle                  5   \n",
       "80331  9/9/2013 23:00     edmond    ok      us   cigar               1020   \n",
       "\n",
       "      duration (hours/min)                                           comments  \\\n",
       "80327           10 minutes  Round from the distance/slowly changing colors...   \n",
       "80328           20 minutes  Boise&#44 ID&#44 spherical&#44 20 min&#44 10 r...   \n",
       "80329                 hour                                       Napa UFO&#44   \n",
       "80330            5 seconds  Saw a five gold lit cicular craft moving fastl...   \n",
       "80331           17 minutes  2 witnesses 2  miles apart&#44 Red &amp; White...   \n",
       "\n",
       "      date posted latitude  longitude   \n",
       "80327   9/30/2013  36.1658  -86.784444  \n",
       "80328   9/30/2013  43.6136 -116.202500  \n",
       "80329   9/30/2013  38.2972 -122.284444  \n",
       "80330   9/30/2013  38.9011  -77.265556  \n",
       "80331   9/30/2013  35.6528  -97.477778  "
      ]
     },
     "execution_count": 9,
     "metadata": {},
     "output_type": "execute_result"
    }
   ],
   "source": [
    "#data = pd.read_csv('/home/jaz/Escritorio/jaz/fiuba/orga-de-datos-7506/guia1/scrubbed.csv', dtype={'duration (seconds)': int})\n",
    "\n",
    "data = pd.read_csv('/home/jaz/Escritorio/jaz/fiuba/orga-de-datos-7506/guia1/scrubbed.csv', error_bad_lines= False)\n",
    "data.tail()"
   ]
  },
  {
   "cell_type": "code",
   "execution_count": 10,
   "metadata": {},
   "outputs": [
    {
     "data": {
      "text/plain": [
       "array(['datetime', 'city', 'state', 'country', 'shape',\n",
       "       'duration (seconds)', 'duration (hours/min)', 'comments',\n",
       "       'date posted', 'latitude', 'longitude '], dtype=object)"
      ]
     },
     "execution_count": 10,
     "metadata": {},
     "output_type": "execute_result"
    }
   ],
   "source": [
    "data.columns.values"
   ]
  },
  {
   "cell_type": "code",
   "execution_count": 48,
   "metadata": {},
   "outputs": [],
   "source": [
    "data = data.rename(columns={'duration (seconds)':'duration_seconds'})\n",
    "data = data.rename(columns={'duration (hours/min)':'duration_time'})\n",
    "data = data.rename(columns={'date posted':'date_posted'})"
   ]
  },
  {
   "cell_type": "code",
   "execution_count": 49,
   "metadata": {
    "collapsed": true
   },
   "outputs": [],
   "source": [
    "data.replace(to_replace='0.5`', value='0.5', inplace=True)\n",
    "data.replace(to_replace='8`', value='8', inplace=True)\n",
    "data.replace(to_replace='2`', value='2', inplace=True)\n"
   ]
  },
  {
   "cell_type": "code",
   "execution_count": 50,
   "metadata": {},
   "outputs": [
    {
     "data": {
      "text/plain": [
       "True"
      ]
     },
     "execution_count": 50,
     "metadata": {},
     "output_type": "execute_result"
    }
   ],
   "source": [
    "from pandas.api.types import is_numeric_dtype\n",
    "\n",
    "data['duration_seconds'] = pd.to_numeric(data['duration_seconds'], errors='coerce').fillna(0)\n",
    "\n",
    "is_numeric_dtype(data['duration_seconds'])"
   ]
  },
  {
   "cell_type": "code",
   "execution_count": 51,
   "metadata": {},
   "outputs": [
    {
     "data": {
      "text/plain": [
       "4081"
      ]
     },
     "execution_count": 51,
     "metadata": {},
     "output_type": "execute_result"
    }
   ],
   "source": [
    "data.duration_seconds.idxmin()"
   ]
  },
  {
   "cell_type": "code",
   "execution_count": 52,
   "metadata": {},
   "outputs": [
    {
     "data": {
      "text/plain": [
       "datetime                                             10/23/2008 04:45\n",
       "city                                                           remote\n",
       "state                                                              wy\n",
       "country                                                           NaN\n",
       "shape                                                           flash\n",
       "duration_seconds                                                0.001\n",
       "duration_time                                                0.001sec\n",
       "comments            brilliant strobe light at 4am&#44 moving light...\n",
       "date_posted                                                 1/10/2009\n",
       "latitude                                                   -46.163992\n",
       "longitude                                                     169.875\n",
       "Name: 4081, dtype: object"
      ]
     },
     "execution_count": 52,
     "metadata": {},
     "output_type": "execute_result"
    }
   ],
   "source": [
    "#El avistaje mas corto ocurrido en Marzo del 2007 ocurrió en la ciudad de Denver\n",
    "data.iloc[data.duration_seconds.idxmin()]"
   ]
  },
  {
   "cell_type": "code",
   "execution_count": 53,
   "metadata": {},
   "outputs": [
    {
     "data": {
      "text/html": [
       "<div>\n",
       "<style>\n",
       "    .dataframe thead tr:only-child th {\n",
       "        text-align: right;\n",
       "    }\n",
       "\n",
       "    .dataframe thead th {\n",
       "        text-align: left;\n",
       "    }\n",
       "\n",
       "    .dataframe tbody tr th {\n",
       "        vertical-align: top;\n",
       "    }\n",
       "</style>\n",
       "<table border=\"1\" class=\"dataframe\">\n",
       "  <thead>\n",
       "    <tr style=\"text-align: right;\">\n",
       "      <th></th>\n",
       "      <th>duration_time</th>\n",
       "    </tr>\n",
       "  </thead>\n",
       "  <tbody>\n",
       "    <tr>\n",
       "      <th>19788</th>\n",
       "      <td>800 milliseconds</td>\n",
       "    </tr>\n",
       "    <tr>\n",
       "      <th>23754</th>\n",
       "      <td>millisecond</td>\n",
       "    </tr>\n",
       "    <tr>\n",
       "      <th>42378</th>\n",
       "      <td>milliseconds</td>\n",
       "    </tr>\n",
       "    <tr>\n",
       "      <th>56596</th>\n",
       "      <td>milliseconds</td>\n",
       "    </tr>\n",
       "    <tr>\n",
       "      <th>70393</th>\n",
       "      <td>millisecond</td>\n",
       "    </tr>\n",
       "  </tbody>\n",
       "</table>\n",
       "</div>"
      ],
      "text/plain": [
       "          duration_time\n",
       "19788  800 milliseconds\n",
       "23754       millisecond\n",
       "42378      milliseconds\n",
       "56596      milliseconds\n",
       "70393       millisecond"
      ]
     },
     "execution_count": 53,
     "metadata": {},
     "output_type": "execute_result"
    }
   ],
   "source": [
    "data.loc[data.duration_time.str.contains('millisecond', na=False),['duration_time']]"
   ]
  },
  {
   "cell_type": "code",
   "execution_count": 54,
   "metadata": {},
   "outputs": [
    {
     "data": {
      "text/plain": [
       "datetime                                              12/9/1999 18:15\n",
       "city                                                             lyle\n",
       "state                                                              wa\n",
       "country                                                            us\n",
       "shape                                                        fireball\n",
       "duration_seconds                                                 0.01\n",
       "duration_time                                             millisecond\n",
       "comments            Incredible...full moon sized bright orange fir...\n",
       "date_posted                                                12/16/1999\n",
       "latitude                                                   45.6961111\n",
       "longitude                                                    -121.285\n",
       "Name: 23754, dtype: object"
      ]
     },
     "execution_count": 54,
     "metadata": {},
     "output_type": "execute_result"
    }
   ],
   "source": [
    "data.iloc[23754]"
   ]
  },
  {
   "cell_type": "code",
   "execution_count": 55,
   "metadata": {},
   "outputs": [
    {
     "data": {
      "text/plain": [
       "datetime                                              10/1/1983 17:00\n",
       "city                                          birmingham (uk/england)\n",
       "state                                                             NaN\n",
       "country                                                            gb\n",
       "shape                                                          sphere\n",
       "duration_seconds                                           9.7836e+07\n",
       "duration_time                                                31 years\n",
       "comments            Firstly&#44 I was stunned and stared at the ob...\n",
       "date_posted                                                 4/12/2013\n",
       "latitude                                                    52.466667\n",
       "longitude                                                    -1.91667\n",
       "Name: 559, dtype: object"
      ]
     },
     "execution_count": 55,
     "metadata": {},
     "output_type": "execute_result"
    }
   ],
   "source": [
    "#El avistaje de mayor duración en segundos se registro en Canadá\n",
    "data.iloc[data.duration_seconds.idxmax()]"
   ]
  },
  {
   "cell_type": "code",
   "execution_count": 56,
   "metadata": {},
   "outputs": [
    {
     "data": {
      "text/plain": [
       "shape\n",
       "light        16565\n",
       "triangle      7865\n",
       "circle        7608\n",
       "fireball      6208\n",
       "other         5649\n",
       "unknown       5584\n",
       "sphere        5387\n",
       "disk          5213\n",
       "oval          3733\n",
       "formation     2457\n",
       "cigar         2057\n",
       "changing      1962\n",
       "flash         1328\n",
       "rectangle     1297\n",
       "cylinder      1283\n",
       "diamond       1178\n",
       "chevron        952\n",
       "egg            759\n",
       "teardrop       750\n",
       "cone           316\n",
       "cross          233\n",
       "delta            7\n",
       "round            2\n",
       "crescent         2\n",
       "pyramid          1\n",
       "dome             1\n",
       "flare            1\n",
       "hexagon          1\n",
       "changed          1\n",
       "dtype: int64"
      ]
     },
     "execution_count": 56,
     "metadata": {},
     "output_type": "execute_result"
    }
   ],
   "source": [
    "#La forma mas común en los ufos registrados es circular\n",
    "data.groupby('shape').size().sort_values(axis=0, ascending=False)"
   ]
  },
  {
   "cell_type": "code",
   "execution_count": 72,
   "metadata": {},
   "outputs": [
    {
     "data": {
      "text/html": [
       "<div>\n",
       "<style>\n",
       "    .dataframe thead tr:only-child th {\n",
       "        text-align: right;\n",
       "    }\n",
       "\n",
       "    .dataframe thead th {\n",
       "        text-align: left;\n",
       "    }\n",
       "\n",
       "    .dataframe tbody tr th {\n",
       "        vertical-align: top;\n",
       "    }\n",
       "</style>\n",
       "<table border=\"1\" class=\"dataframe\">\n",
       "  <thead>\n",
       "    <tr style=\"text-align: right;\">\n",
       "      <th></th>\n",
       "      <th>date_posted</th>\n",
       "      <th>country</th>\n",
       "      <th>city</th>\n",
       "      <th>state</th>\n",
       "      <th>duration_seconds</th>\n",
       "    </tr>\n",
       "  </thead>\n",
       "  <tbody>\n",
       "    <tr>\n",
       "      <th>77583</th>\n",
       "      <td>12/3/2004</td>\n",
       "      <td>gb</td>\n",
       "      <td>chester (uk/england)</td>\n",
       "      <td>NaN</td>\n",
       "      <td>180.0</td>\n",
       "    </tr>\n",
       "    <tr>\n",
       "      <th>78186</th>\n",
       "      <td>6/23/2004</td>\n",
       "      <td>us</td>\n",
       "      <td>cornelius</td>\n",
       "      <td>or</td>\n",
       "      <td>5.0</td>\n",
       "    </tr>\n",
       "    <tr>\n",
       "      <th>78670</th>\n",
       "      <td>12/3/2004</td>\n",
       "      <td>us</td>\n",
       "      <td>davis</td>\n",
       "      <td>ca</td>\n",
       "      <td>600.0</td>\n",
       "    </tr>\n",
       "    <tr>\n",
       "      <th>79553</th>\n",
       "      <td>12/3/2004</td>\n",
       "      <td>us</td>\n",
       "      <td>lakeland</td>\n",
       "      <td>fl</td>\n",
       "      <td>180.0</td>\n",
       "    </tr>\n",
       "    <tr>\n",
       "      <th>79932</th>\n",
       "      <td>3/23/2004</td>\n",
       "      <td>NaN</td>\n",
       "      <td>maui</td>\n",
       "      <td>hi</td>\n",
       "      <td>20.0</td>\n",
       "    </tr>\n",
       "  </tbody>\n",
       "</table>\n",
       "</div>"
      ],
      "text/plain": [
       "      date_posted country                  city state  duration_seconds\n",
       "77583   12/3/2004      gb  chester (uk/england)   NaN             180.0\n",
       "78186   6/23/2004      us             cornelius    or               5.0\n",
       "78670   12/3/2004      us                 davis    ca             600.0\n",
       "79553   12/3/2004      us              lakeland    fl             180.0\n",
       "79932   3/23/2004     NaN                  maui    hi              20.0"
      ]
     },
     "execution_count": 72,
     "metadata": {},
     "output_type": "execute_result"
    }
   ],
   "source": [
    "#Las Vegas, NV tiene un registro que aparece en el Top10 de avistajes con mayor duración en segundos para el mes de Marzo 2004\n",
    "marzo_2004 = data.loc[data.date_posted.str.contains('3/2004', na=False),['date_posted','country','city','state','duration_seconds']]\n",
    "marzo_2004.tail()"
   ]
  },
  {
   "cell_type": "code",
   "execution_count": 73,
   "metadata": {},
   "outputs": [
    {
     "data": {
      "text/html": [
       "<div>\n",
       "<style>\n",
       "    .dataframe thead tr:only-child th {\n",
       "        text-align: right;\n",
       "    }\n",
       "\n",
       "    .dataframe thead th {\n",
       "        text-align: left;\n",
       "    }\n",
       "\n",
       "    .dataframe tbody tr th {\n",
       "        vertical-align: top;\n",
       "    }\n",
       "</style>\n",
       "<table border=\"1\" class=\"dataframe\">\n",
       "  <thead>\n",
       "    <tr style=\"text-align: right;\">\n",
       "      <th></th>\n",
       "      <th>date_posted</th>\n",
       "      <th>country</th>\n",
       "      <th>city</th>\n",
       "      <th>state</th>\n",
       "      <th>duration_seconds</th>\n",
       "    </tr>\n",
       "  </thead>\n",
       "  <tbody>\n",
       "    <tr>\n",
       "      <th>64116</th>\n",
       "      <td>6/23/2004</td>\n",
       "      <td>us</td>\n",
       "      <td>hollis</td>\n",
       "      <td>nh</td>\n",
       "      <td>604800.0</td>\n",
       "    </tr>\n",
       "    <tr>\n",
       "      <th>31319</th>\n",
       "      <td>3/23/2004</td>\n",
       "      <td>us</td>\n",
       "      <td>las vegas</td>\n",
       "      <td>nv</td>\n",
       "      <td>345600.0</td>\n",
       "    </tr>\n",
       "    <tr>\n",
       "      <th>30886</th>\n",
       "      <td>3/23/2004</td>\n",
       "      <td>us</td>\n",
       "      <td>rockwell city</td>\n",
       "      <td>ia</td>\n",
       "      <td>14400.0</td>\n",
       "    </tr>\n",
       "    <tr>\n",
       "      <th>75038</th>\n",
       "      <td>6/23/2004</td>\n",
       "      <td>us</td>\n",
       "      <td>jefferson</td>\n",
       "      <td>ia</td>\n",
       "      <td>14400.0</td>\n",
       "    </tr>\n",
       "    <tr>\n",
       "      <th>32704</th>\n",
       "      <td>3/23/2004</td>\n",
       "      <td>us</td>\n",
       "      <td>woodward</td>\n",
       "      <td>ok</td>\n",
       "      <td>14400.0</td>\n",
       "    </tr>\n",
       "    <tr>\n",
       "      <th>3114</th>\n",
       "      <td>12/3/2004</td>\n",
       "      <td>us</td>\n",
       "      <td>columbus</td>\n",
       "      <td>oh</td>\n",
       "      <td>14400.0</td>\n",
       "    </tr>\n",
       "    <tr>\n",
       "      <th>21445</th>\n",
       "      <td>12/3/2004</td>\n",
       "      <td>NaN</td>\n",
       "      <td>cali (colombia s.a.)</td>\n",
       "      <td>NaN</td>\n",
       "      <td>14400.0</td>\n",
       "    </tr>\n",
       "    <tr>\n",
       "      <th>68315</th>\n",
       "      <td>12/3/2004</td>\n",
       "      <td>us</td>\n",
       "      <td>houston</td>\n",
       "      <td>tx</td>\n",
       "      <td>10800.0</td>\n",
       "    </tr>\n",
       "    <tr>\n",
       "      <th>10177</th>\n",
       "      <td>12/3/2004</td>\n",
       "      <td>us</td>\n",
       "      <td>downey</td>\n",
       "      <td>ca</td>\n",
       "      <td>10800.0</td>\n",
       "    </tr>\n",
       "    <tr>\n",
       "      <th>52729</th>\n",
       "      <td>12/3/2004</td>\n",
       "      <td>NaN</td>\n",
       "      <td>west allis</td>\n",
       "      <td>wi</td>\n",
       "      <td>10800.0</td>\n",
       "    </tr>\n",
       "  </tbody>\n",
       "</table>\n",
       "</div>"
      ],
      "text/plain": [
       "      date_posted country                  city state  duration_seconds\n",
       "64116   6/23/2004      us                hollis    nh          604800.0\n",
       "31319   3/23/2004      us             las vegas    nv          345600.0\n",
       "30886   3/23/2004      us         rockwell city    ia           14400.0\n",
       "75038   6/23/2004      us             jefferson    ia           14400.0\n",
       "32704   3/23/2004      us              woodward    ok           14400.0\n",
       "3114    12/3/2004      us              columbus    oh           14400.0\n",
       "21445   12/3/2004     NaN  cali (colombia s.a.)   NaN           14400.0\n",
       "68315   12/3/2004      us               houston    tx           10800.0\n",
       "10177   12/3/2004      us                downey    ca           10800.0\n",
       "52729   12/3/2004     NaN            west allis    wi           10800.0"
      ]
     },
     "execution_count": 73,
     "metadata": {},
     "output_type": "execute_result"
    }
   ],
   "source": [
    "marzo_2004.sort_values(['duration_seconds'], axis=0, ascending=False, inplace=True)\n",
    "marzo_2004.head(10)"
   ]
  },
  {
   "cell_type": "code",
   "execution_count": 74,
   "metadata": {},
   "outputs": [
    {
     "data": {
      "text/plain": [
       "952"
      ]
     },
     "execution_count": 74,
     "metadata": {},
     "output_type": "execute_result"
    }
   ],
   "source": [
    "#Existen 963 ufos reportados con forma de chevron\n",
    "data.groupby('shape').size()['chevron']"
   ]
  },
  {
   "cell_type": "code",
   "execution_count": 78,
   "metadata": {},
   "outputs": [
    {
     "data": {
      "text/plain": [
       "shape\n",
       "light        79\n",
       "circle       43\n",
       "triangle     39\n",
       "disk         35\n",
       "fireball     34\n",
       "sphere       32\n",
       "unknown      31\n",
       "other        26\n",
       "oval         21\n",
       "cigar        17\n",
       "changing     15\n",
       "formation    12\n",
       "chevron       7\n",
       "rectangle     6\n",
       "flash         5\n",
       "egg           5\n",
       "diamond       5\n",
       "teardrop      5\n",
       "cone          3\n",
       "cylinder      1\n",
       "cross         1\n",
       "dtype: int64"
      ]
     },
     "execution_count": 78,
     "metadata": {},
     "output_type": "execute_result"
    }
   ],
   "source": [
    "#La forma con mayor cantidad de registros en Los Angeles, CA es la forma de triangulo\n",
    "losAngeles_ca = data.loc[(data.city.str.contains('ngeles', na=False) & data.state.str.contains('ca', na=False)),['city','state','shape']]\n",
    "losAngeles_ca.groupby('shape').size().sort_values(axis=0, ascending=False)"
   ]
  },
  {
   "cell_type": "code",
   "execution_count": 82,
   "metadata": {},
   "outputs": [
    {
     "data": {
      "text/plain": [
       "shape\n",
       "changed       3600.000000\n",
       "changing      2079.513405\n",
       "chevron        460.317174\n",
       "cigar         1917.106830\n",
       "circle        4767.466062\n",
       "cone         82827.405063\n",
       "crescent     18905.000000\n",
       "cross          748.519313\n",
       "cylinder      3426.512471\n",
       "delta         2307.857143\n",
       "diamond       1413.628625\n",
       "disk          1460.431677\n",
       "dome             2.000000\n",
       "egg           1886.793281\n",
       "fireball      4023.941484\n",
       "flare           30.000000\n",
       "flash         5330.289421\n",
       "formation     1254.048547\n",
       "hexagon        240.000000\n",
       "light        13170.345373\n",
       "other        20634.210977\n",
       "oval          3898.586311\n",
       "pyramid        120.000000\n",
       "rectangle      683.183346\n",
       "round          452.500000\n",
       "sphere       21787.298238\n",
       "teardrop       942.946000\n",
       "triangle      1664.266397\n",
       "unknown       5546.723104\n",
       "Name: duration_seconds, dtype: float64"
      ]
     },
     "execution_count": 82,
     "metadata": {},
     "output_type": "execute_result"
    }
   ],
   "source": [
    "#Los avistajes en forma de bola de fuego tienen un tiempo promedio de duración de aproximadamente el doble que el de los de forma de huevo.\n",
    "durationByShape = data.groupby(['shape'])['duration_seconds'].mean()\n",
    "durationByShape"
   ]
  },
  {
   "cell_type": "code",
   "execution_count": 91,
   "metadata": {},
   "outputs": [
    {
     "data": {
      "text/plain": [
       "-250.35492230476484"
      ]
     },
     "execution_count": 91,
     "metadata": {},
     "output_type": "execute_result"
    }
   ],
   "source": [
    "durationByShape['egg']*2 -durationByShape['fireball']"
   ]
  },
  {
   "cell_type": "code",
   "execution_count": 92,
   "metadata": {},
   "outputs": [
    {
     "data": {
      "text/plain": [
       "125.17746115238242"
      ]
     },
     "execution_count": 92,
     "metadata": {},
     "output_type": "execute_result"
    }
   ],
   "source": [
    "durationByShape['fireball']/2- durationByShape['egg']"
   ]
  },
  {
   "cell_type": "code",
   "execution_count": 93,
   "metadata": {},
   "outputs": [
    {
     "data": {
      "text/plain": [
       "shape\n",
       "light        16\n",
       "sphere       13\n",
       "other        10\n",
       "fireball      8\n",
       "cylinder      7\n",
       "disk          7\n",
       "triangle      6\n",
       "circle        5\n",
       "cigar         3\n",
       "changing      3\n",
       "formation     3\n",
       "oval          2\n",
       "egg           1\n",
       "flash         1\n",
       "diamond       1\n",
       "rectangle     1\n",
       "chevron       1\n",
       "unknown       1\n",
       "dtype: int64"
      ]
     },
     "execution_count": 93,
     "metadata": {},
     "output_type": "execute_result"
    }
   ],
   "source": [
    "#Entre los avistajes registrados en Washington, DC, las formas mas populares son luz, esfera y bola de fuego.\n",
    "washington_dc = data.loc[(data.city.str.contains('ashington', na=False) & data.state.str.contains('dc', na=False)),['city','state','shape']]\n",
    "washington_dc.groupby('shape').size().sort_values(axis=0, ascending=False)"
   ]
  },
  {
   "cell_type": "code",
   "execution_count": 90,
   "metadata": {},
   "outputs": [
    {
     "data": {
      "text/plain": [
       "1886.7932806324111"
      ]
     },
     "execution_count": 90,
     "metadata": {},
     "output_type": "execute_result"
    }
   ],
   "source": [
    "durationByShape['egg']"
   ]
  },
  {
   "cell_type": "code",
   "execution_count": null,
   "metadata": {
    "collapsed": true
   },
   "outputs": [],
   "source": []
  }
 ],
 "metadata": {
  "kernelspec": {
   "display_name": "Python 2",
   "language": "python",
   "name": "python2"
  },
  "language_info": {
   "codemirror_mode": {
    "name": "ipython",
    "version": 2
   },
   "file_extension": ".py",
   "mimetype": "text/x-python",
   "name": "python",
   "nbconvert_exporter": "python",
   "pygments_lexer": "ipython2",
   "version": "2.7.13"
  }
 },
 "nbformat": 4,
 "nbformat_minor": 2
}
